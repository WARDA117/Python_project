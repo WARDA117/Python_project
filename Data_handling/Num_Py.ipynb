{
 "cells": [
  {
   "cell_type": "markdown",
   "id": "b615681d",
   "metadata": {},
   "source": [
    " NumPy (Numerical Python) is a powerful Python library used for scientific computing and data analysis. It provides:\n",
    "\n",
    "Support for multidimensional arrays and matrices.\n",
    "\n",
    "A wide range of mathematical functions to perform fast computations on large datasets.\n",
    "\n",
    "Efficient handling of numerical data, making it a foundation for libraries like Pandas, SciPy, and scikit-learn"
   ]
  },
  {
   "cell_type": "code",
   "execution_count": 1,
   "id": "f378afb9",
   "metadata": {},
   "outputs": [
    {
     "name": "stdout",
     "output_type": "stream",
     "text": [
      "Requirement already satisfied: numpy in e:\\desktop\\data science\\venv\\lib\\site-packages (2.3.2)\n"
     ]
    }
   ],
   "source": [
    "!pip install numpy\n"
   ]
  },
  {
   "cell_type": "code",
   "execution_count": 2,
   "id": "8210e82a",
   "metadata": {},
   "outputs": [],
   "source": [
    "import numpy as np"
   ]
  },
  {
   "cell_type": "code",
   "execution_count": 3,
   "id": "602b81fb",
   "metadata": {},
   "outputs": [],
   "source": [
    "import numpy as np \n",
    "\n",
    "files = [\"master_results_table.csv\",\n",
    "         \"mers_results.csv\",\n",
    "         \"sars_results.csv\"]\n",
    "\n"
   ]
  },
  {
   "cell_type": "code",
   "execution_count": 4,
   "id": "32c96a7b",
   "metadata": {},
   "outputs": [
    {
     "data": {
      "text/plain": [
       "[0.33334, 0.0555, 0.355, 0.88, 0.66667]"
      ]
     },
     "execution_count": 4,
     "metadata": {},
     "output_type": "execute_result"
    }
   ],
   "source": [
    "masters_results = [99.9,99,98.9,90,99]\n",
    "mers_results  = [0.33334,0.0555,0.355,0.88,0.66667]\n",
    "sars_result =  [0.776,0.333,0.555,0.567,0.334]\n",
    "\n",
    "mers_results"
   ]
  },
  {
   "cell_type": "code",
   "execution_count": 5,
   "id": "622b357d",
   "metadata": {},
   "outputs": [
    {
     "data": {
      "text/plain": [
       "[99.9, 99, 98.9, 90, 99]"
      ]
     },
     "execution_count": 5,
     "metadata": {},
     "output_type": "execute_result"
    }
   ],
   "source": [
    "masters_results\n"
   ]
  },
  {
   "cell_type": "code",
   "execution_count": 6,
   "id": "ed2f73f5",
   "metadata": {},
   "outputs": [
    {
     "data": {
      "text/plain": [
       "[0.776, 0.333, 0.555, 0.567, 0.334]"
      ]
     },
     "execution_count": 6,
     "metadata": {},
     "output_type": "execute_result"
    }
   ],
   "source": [
    "sars_result"
   ]
  },
  {
   "cell_type": "code",
   "execution_count": 7,
   "id": "416485e3",
   "metadata": {},
   "outputs": [
    {
     "data": {
      "text/plain": [
       "array([99.9, 99. , 98.9, 90. , 99. ])"
      ]
     },
     "execution_count": 7,
     "metadata": {},
     "output_type": "execute_result"
    }
   ],
   "source": [
    "np.array(masters_results)"
   ]
  },
  {
   "cell_type": "code",
   "execution_count": 8,
   "id": "06b3bd50",
   "metadata": {},
   "outputs": [
    {
     "data": {
      "text/plain": [
       "array([0.776, 0.333, 0.555, 0.567, 0.334])"
      ]
     },
     "execution_count": 8,
     "metadata": {},
     "output_type": "execute_result"
    }
   ],
   "source": [
    "np.array(sars_result)"
   ]
  },
  {
   "cell_type": "code",
   "execution_count": 9,
   "id": "e3dd5d63",
   "metadata": {},
   "outputs": [
    {
     "data": {
      "text/plain": [
       "array([0.33334, 0.0555 , 0.355  , 0.88   , 0.66667])"
      ]
     },
     "execution_count": 9,
     "metadata": {},
     "output_type": "execute_result"
    }
   ],
   "source": [
    "np.array(mers_results)"
   ]
  },
  {
   "cell_type": "code",
   "execution_count": 10,
   "id": "c39330dd",
   "metadata": {},
   "outputs": [
    {
     "name": "stdout",
     "output_type": "stream",
     "text": [
      "\n",
      "Time taken for masters_result: 5.650520324707031e-05\n",
      "\n",
      "Time taken for sars_result: 0.0006604194641113281\n",
      "\n",
      "Time taken for mers_result: 0.0007843971252441406\n"
     ]
    }
   ],
   "source": [
    "#time\n",
    "masters_results = [99.9,99,98.9,90,99]\n",
    "mers_results  = [0.33334,0.0555,0.355,0.88,0.66667]\n",
    "sars_result =  [0.776,0.333,0.555,0.567,0.334]\n",
    "\n",
    " \n",
    "import time\n",
    "\n",
    "start = time.time()\n",
    "\n",
    "print(\"\\nTime taken for masters_result:\", time.time() - start)\n",
    "print(\"\\nTime taken for sars_result:\", time.time() - start)\n",
    "print(\"\\nTime taken for mers_result:\", time.time() - start)"
   ]
  },
  {
   "cell_type": "code",
   "execution_count": 11,
   "id": "f59de5dd",
   "metadata": {},
   "outputs": [
    {
     "name": "stdout",
     "output_type": "stream",
     "text": [
      "[99.9 99.  98.9 90.  99. ]\n"
     ]
    }
   ],
   "source": [
    "#array\n",
    "masters_results=[99.9,99,98.9,90,99]\n",
    "array=np.array(masters_results)\n",
    "print(array)"
   ]
  },
  {
   "cell_type": "code",
   "execution_count": 12,
   "id": "9cfb9b0f",
   "metadata": {},
   "outputs": [
    {
     "name": "stdout",
     "output_type": "stream",
     "text": [
      "<class 'list'>\n",
      "<class 'list'>\n"
     ]
    }
   ],
   "source": [
    "print(type(masters_results))\n",
    "print(type(sars_result))"
   ]
  },
  {
   "cell_type": "code",
   "execution_count": 13,
   "id": "6e5b28c6",
   "metadata": {},
   "outputs": [
    {
     "data": {
      "text/plain": [
       "(5,)"
      ]
     },
     "execution_count": 13,
     "metadata": {},
     "output_type": "execute_result"
    }
   ],
   "source": [
    "array.shape"
   ]
  },
  {
   "cell_type": "code",
   "execution_count": 14,
   "id": "4b5bc8fd",
   "metadata": {},
   "outputs": [
    {
     "data": {
      "text/plain": [
       "1"
      ]
     },
     "execution_count": 14,
     "metadata": {},
     "output_type": "execute_result"
    }
   ],
   "source": [
    "array.ndim"
   ]
  },
  {
   "cell_type": "code",
   "execution_count": 15,
   "id": "42067f84",
   "metadata": {},
   "outputs": [
    {
     "data": {
      "text/plain": [
       "array([  10.,  100., 1000.])"
      ]
     },
     "execution_count": 15,
     "metadata": {},
     "output_type": "execute_result"
    }
   ],
   "source": [
    "# logspace\n",
    "import numpy as np\n",
    "masters_results=np.logspace(1,3,3)\n",
    "masters_results\n"
   ]
  },
  {
   "cell_type": "code",
   "execution_count": 16,
   "id": "f8924813",
   "metadata": {},
   "outputs": [
    {
     "data": {
      "text/plain": [
       "array([ 100.        ,  316.22776602, 1000.        ])"
      ]
     },
     "execution_count": 16,
     "metadata": {},
     "output_type": "execute_result"
    }
   ],
   "source": [
    "sars_result = np.logspace(2,3,3)\n",
    "sars_result"
   ]
  },
  {
   "cell_type": "code",
   "execution_count": 17,
   "id": "c3555640",
   "metadata": {},
   "outputs": [
    {
     "data": {
      "text/plain": [
       "array([ 10.       ,  31.6227766, 100.       ])"
      ]
     },
     "execution_count": 17,
     "metadata": {},
     "output_type": "execute_result"
    }
   ],
   "source": [
    "mers_results= np.logspace(1,2,3)\n",
    "mers_results"
   ]
  },
  {
   "cell_type": "code",
   "execution_count": 18,
   "id": "703495b0",
   "metadata": {},
   "outputs": [
    {
     "data": {
      "text/plain": [
       "array([0., 0.])"
      ]
     },
     "execution_count": 18,
     "metadata": {},
     "output_type": "execute_result"
    }
   ],
   "source": [
    "# number of zeros\n",
    "masters_results = np.zeros(2)\n",
    "masters_results"
   ]
  },
  {
   "cell_type": "code",
   "execution_count": 19,
   "id": "799ed602",
   "metadata": {},
   "outputs": [
    {
     "data": {
      "text/plain": [
       "array([0., 0., 0., 0., 0.])"
      ]
     },
     "execution_count": 19,
     "metadata": {},
     "output_type": "execute_result"
    }
   ],
   "source": [
    "mers_results = np.zeros(5)\n",
    "mers_results"
   ]
  },
  {
   "cell_type": "code",
   "execution_count": 20,
   "id": "f8ed748f",
   "metadata": {},
   "outputs": [
    {
     "data": {
      "text/plain": [
       "array([0., 0., 0.])"
      ]
     },
     "execution_count": 20,
     "metadata": {},
     "output_type": "execute_result"
    }
   ],
   "source": [
    "sars_result = np.zeros(3)\n",
    "sars_result"
   ]
  },
  {
   "cell_type": "code",
   "execution_count": 21,
   "id": "a4f6355c",
   "metadata": {},
   "outputs": [
    {
     "data": {
      "text/plain": [
       "dtype('float64')"
      ]
     },
     "execution_count": 21,
     "metadata": {},
     "output_type": "execute_result"
    }
   ],
   "source": [
    "array = np.array(masters_results)\n",
    "\n",
    "array.dtype"
   ]
  },
  {
   "cell_type": "code",
   "execution_count": 22,
   "id": "dd43c3b9",
   "metadata": {},
   "outputs": [
    {
     "data": {
      "text/plain": [
       "dtype('float64')"
      ]
     },
     "execution_count": 22,
     "metadata": {},
     "output_type": "execute_result"
    }
   ],
   "source": [
    "array = np.array(mers_results)\n",
    "array.dtype"
   ]
  },
  {
   "cell_type": "code",
   "execution_count": 23,
   "id": "a3831ccf",
   "metadata": {},
   "outputs": [
    {
     "name": "stdout",
     "output_type": "stream",
     "text": [
      "[100.676  99.333  99.455  90.567  99.334]\n"
     ]
    }
   ],
   "source": [
    "#arithmetic operation\n",
    "masters_results =np.array ([99.9,99,98.9,90,99])\n",
    "mers_results  = np.array([0.33334,0.0555,0.355,0.88,0.66667])\n",
    "sars_result =  np.array([0.776,0.333,0.555,0.567,0.334])\n",
    "\n",
    "\n",
    "print(masters_results+sars_result)\n"
   ]
  },
  {
   "cell_type": "code",
   "execution_count": 24,
   "id": "d54deab1",
   "metadata": {},
   "outputs": [
    {
     "name": "stdout",
     "output_type": "stream",
     "text": [
      "[99.124 98.667 98.345 89.433 98.666]\n"
     ]
    }
   ],
   "source": [
    "print(masters_results-sars_result)"
   ]
  },
  {
   "cell_type": "code",
   "execution_count": 25,
   "id": "4492c061",
   "metadata": {},
   "outputs": [
    {
     "name": "stdout",
     "output_type": "stream",
     "text": [
      "[33.300666  5.4945   35.1095   79.2      66.00033 ]\n"
     ]
    }
   ],
   "source": [
    "print(masters_results*mers_results)"
   ]
  },
  {
   "cell_type": "code",
   "execution_count": 26,
   "id": "5ddabaa9",
   "metadata": {},
   "outputs": [
    {
     "name": "stdout",
     "output_type": "stream",
     "text": [
      "[0.33334 0.0555  0.355   0.313   0.33267]\n"
     ]
    }
   ],
   "source": [
    "print(mers_results%sars_result)"
   ]
  },
  {
   "cell_type": "code",
   "execution_count": 27,
   "id": "a1f364d5",
   "metadata": {},
   "outputs": [
    {
     "name": "stdout",
     "output_type": "stream",
     "text": [
      "[0.91893862 0.94079642 0.81137946 0.60695025 0.48138888]\n"
     ]
    }
   ],
   "source": [
    "print(sars_result**mers_results)"
   ]
  },
  {
   "cell_type": "code",
   "execution_count": 28,
   "id": "00ed9725",
   "metadata": {},
   "outputs": [
    {
     "name": "stdout",
     "output_type": "stream",
     "text": [
      "[0. 0. 0. 0. 0.]\n"
     ]
    }
   ],
   "source": [
    "#square root\n",
    "print(np.sqrt(array))"
   ]
  },
  {
   "cell_type": "code",
   "execution_count": 29,
   "id": "fb258931",
   "metadata": {},
   "outputs": [
    {
     "name": "stdout",
     "output_type": "stream",
     "text": [
      "[9.99499875 9.94987437 9.94484791 9.48683298 9.94987437]\n"
     ]
    }
   ],
   "source": [
    "print(np.sqrt(masters_results))"
   ]
  },
  {
   "cell_type": "code",
   "execution_count": 30,
   "id": "e7d13293",
   "metadata": {},
   "outputs": [
    {
     "name": "stdout",
     "output_type": "stream",
     "text": [
      "[0.57735604 0.23558438 0.59581876 0.93808315 0.81649862]\n"
     ]
    }
   ],
   "source": [
    "print(np.sqrt(mers_results))"
   ]
  },
  {
   "cell_type": "code",
   "execution_count": 31,
   "id": "52870baa",
   "metadata": {},
   "outputs": [
    {
     "name": "stdout",
     "output_type": "stream",
     "text": [
      "[0.88090862 0.57706152 0.74498322 0.75299402 0.57792733]\n"
     ]
    }
   ],
   "source": [
    "print(np.sqrt(sars_result))"
   ]
  },
  {
   "cell_type": "code",
   "execution_count": 32,
   "id": "2aca8170",
   "metadata": {},
   "outputs": [
    {
     "name": "stdout",
     "output_type": "stream",
     "text": [
      "0.0\n"
     ]
    }
   ],
   "source": [
    "#indexing \n",
    "\n",
    "print(array[3])"
   ]
  },
  {
   "cell_type": "code",
   "execution_count": 33,
   "id": "61de9ba7",
   "metadata": {},
   "outputs": [
    {
     "name": "stdout",
     "output_type": "stream",
     "text": [
      "99.0\n"
     ]
    }
   ],
   "source": [
    "print(masters_results[4])"
   ]
  },
  {
   "cell_type": "code",
   "execution_count": 34,
   "id": "064a165c",
   "metadata": {},
   "outputs": [
    {
     "name": "stdout",
     "output_type": "stream",
     "text": [
      "[0.33334 0.0555  0.355   0.88   ]\n"
     ]
    }
   ],
   "source": [
    "print(mers_results[0:4])"
   ]
  },
  {
   "cell_type": "code",
   "execution_count": 35,
   "id": "d46ef786",
   "metadata": {},
   "outputs": [
    {
     "name": "stdout",
     "output_type": "stream",
     "text": [
      "[0.555]\n"
     ]
    }
   ],
   "source": [
    "print(sars_result[2:3])"
   ]
  },
  {
   "cell_type": "code",
   "execution_count": 36,
   "id": "bfe8751a",
   "metadata": {},
   "outputs": [
    {
     "data": {
      "text/plain": [
       "array([99.9, 99. , 98.9, 90. , 99. ])"
      ]
     },
     "execution_count": 36,
     "metadata": {},
     "output_type": "execute_result"
    }
   ],
   "source": [
    "\n",
    "masters_results"
   ]
  },
  {
   "cell_type": "code",
   "execution_count": 37,
   "id": "ea534fa1",
   "metadata": {},
   "outputs": [
    {
     "name": "stdout",
     "output_type": "stream",
     "text": [
      "[0.33334 0.88   ]\n"
     ]
    }
   ],
   "source": [
    "mers_results\n",
    "print(mers_results[::3])"
   ]
  },
  {
   "cell_type": "code",
   "execution_count": 38,
   "id": "da92a420",
   "metadata": {},
   "outputs": [
    {
     "data": {
      "text/plain": [
       "array([[0.33 , 0.55 , 0.66 ],\n",
       "       [0.44 , 0.65 , 0.23 ],\n",
       "       [0.324, 0.567, 0.45 ]])"
      ]
     },
     "execution_count": 38,
     "metadata": {},
     "output_type": "execute_result"
    }
   ],
   "source": [
    "# multidimensional array\n",
    "\n",
    "mers_results = ([0.33,0.55,0.66],\n",
    "                [0.44,0.65,0.23],\n",
    "                [0.324,0.567,0.45])\n",
    "\n",
    "arr_1=np.array(mers_results)\n",
    "arr_1"
   ]
  },
  {
   "cell_type": "code",
   "execution_count": 39,
   "id": "60b61399",
   "metadata": {},
   "outputs": [
    {
     "data": {
      "text/plain": [
       "2"
      ]
     },
     "execution_count": 39,
     "metadata": {},
     "output_type": "execute_result"
    }
   ],
   "source": [
    "arr_1.ndim"
   ]
  },
  {
   "cell_type": "code",
   "execution_count": 40,
   "id": "dca664c2",
   "metadata": {},
   "outputs": [
    {
     "data": {
      "text/plain": [
       "dtype('float64')"
      ]
     },
     "execution_count": 40,
     "metadata": {},
     "output_type": "execute_result"
    }
   ],
   "source": [
    "arr_1.dtype"
   ]
  },
  {
   "cell_type": "code",
   "execution_count": 41,
   "id": "b1e366eb",
   "metadata": {},
   "outputs": [
    {
     "name": "stdout",
     "output_type": "stream",
     "text": [
      "[0.44 0.65 0.23]\n"
     ]
    }
   ],
   "source": [
    "# indexing\n",
    "\n",
    "print(arr_1[1])"
   ]
  },
  {
   "cell_type": "code",
   "execution_count": 42,
   "id": "22941019",
   "metadata": {},
   "outputs": [
    {
     "name": "stdout",
     "output_type": "stream",
     "text": [
      "[[0.55]]\n"
     ]
    }
   ],
   "source": [
    "#slicing\n",
    "\n",
    "print(arr_1[0:1,1:2])"
   ]
  },
  {
   "cell_type": "code",
   "execution_count": 43,
   "id": "c64e2604",
   "metadata": {},
   "outputs": [
    {
     "data": {
      "text/plain": [
       "array([[2.31 , 3.85 , 4.62 ],\n",
       "       [3.08 , 4.55 , 1.61 ],\n",
       "       [2.268, 3.969, 3.15 ]])"
      ]
     },
     "execution_count": 43,
     "metadata": {},
     "output_type": "execute_result"
    }
   ],
   "source": [
    "#multiply \n",
    "arr_1*7"
   ]
  },
  {
   "cell_type": "code",
   "execution_count": 44,
   "id": "afec6795",
   "metadata": {},
   "outputs": [
    {
     "data": {
      "text/plain": [
       "np.float64(0.46677777777777785)"
      ]
     },
     "execution_count": 44,
     "metadata": {},
     "output_type": "execute_result"
    }
   ],
   "source": [
    "# mean, median\n",
    "\n",
    "np.mean(mers_results)"
   ]
  },
  {
   "cell_type": "code",
   "execution_count": 45,
   "id": "479b0fe9",
   "metadata": {},
   "outputs": [
    {
     "data": {
      "text/plain": [
       "np.float64(97.36)"
      ]
     },
     "execution_count": 45,
     "metadata": {},
     "output_type": "execute_result"
    }
   ],
   "source": [
    "np.mean(masters_results)"
   ]
  },
  {
   "cell_type": "code",
   "execution_count": 46,
   "id": "336f811d",
   "metadata": {},
   "outputs": [
    {
     "data": {
      "text/plain": [
       "np.float64(0.555)"
      ]
     },
     "execution_count": 46,
     "metadata": {},
     "output_type": "execute_result"
    }
   ],
   "source": [
    "np.median(sars_result)"
   ]
  },
  {
   "cell_type": "code",
   "execution_count": 47,
   "id": "5c3db647",
   "metadata": {},
   "outputs": [
    {
     "data": {
      "text/plain": [
       "np.float64(99.0)"
      ]
     },
     "execution_count": 47,
     "metadata": {},
     "output_type": "execute_result"
    }
   ],
   "source": [
    "np.median(masters_results)"
   ]
  },
  {
   "cell_type": "code",
   "execution_count": 48,
   "id": "f42a9b2e",
   "metadata": {},
   "outputs": [
    {
     "data": {
      "text/plain": [
       "np.float64(99.9)"
      ]
     },
     "execution_count": 48,
     "metadata": {},
     "output_type": "execute_result"
    }
   ],
   "source": [
    "# maximum\n",
    "\n",
    "np.max(masters_results)"
   ]
  },
  {
   "cell_type": "code",
   "execution_count": 49,
   "id": "5fb23956",
   "metadata": {},
   "outputs": [
    {
     "data": {
      "text/plain": [
       "np.float64(0.776)"
      ]
     },
     "execution_count": 49,
     "metadata": {},
     "output_type": "execute_result"
    }
   ],
   "source": [
    "np.max(sars_result)"
   ]
  },
  {
   "cell_type": "code",
   "execution_count": 50,
   "id": "3c603842",
   "metadata": {},
   "outputs": [
    {
     "data": {
      "text/plain": [
       "np.float64(0.66)"
      ]
     },
     "execution_count": 50,
     "metadata": {},
     "output_type": "execute_result"
    }
   ],
   "source": [
    "np.max(mers_results)"
   ]
  },
  {
   "cell_type": "code",
   "execution_count": 51,
   "id": "2b2cecc4",
   "metadata": {},
   "outputs": [
    {
     "data": {
      "text/plain": [
       "np.float64(90.0)"
      ]
     },
     "execution_count": 51,
     "metadata": {},
     "output_type": "execute_result"
    }
   ],
   "source": [
    "# minimum\n",
    "np.min(masters_results)"
   ]
  },
  {
   "cell_type": "code",
   "execution_count": 52,
   "id": "039ee6d6",
   "metadata": {},
   "outputs": [
    {
     "data": {
      "text/plain": [
       "np.float64(0.23)"
      ]
     },
     "execution_count": 52,
     "metadata": {},
     "output_type": "execute_result"
    }
   ],
   "source": [
    "np.min(mers_results)"
   ]
  },
  {
   "cell_type": "code",
   "execution_count": 53,
   "id": "81f7ab01",
   "metadata": {},
   "outputs": [
    {
     "data": {
      "text/plain": [
       "np.float64(0.333)"
      ]
     },
     "execution_count": 53,
     "metadata": {},
     "output_type": "execute_result"
    }
   ],
   "source": [
    "np.min(sars_result)"
   ]
  }
 ],
 "metadata": {
  "kernelspec": {
   "display_name": "venv",
   "language": "python",
   "name": "python3"
  },
  "language_info": {
   "codemirror_mode": {
    "name": "ipython",
    "version": 3
   },
   "file_extension": ".py",
   "mimetype": "text/x-python",
   "name": "python",
   "nbconvert_exporter": "python",
   "pygments_lexer": "ipython3",
   "version": "3.13.0"
  }
 },
 "nbformat": 4,
 "nbformat_minor": 5
}
